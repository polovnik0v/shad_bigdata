{
 "cells": [
  {
   "cell_type": "markdown",
   "id": "5299b4b4",
   "metadata": {},
   "source": [
    "**Полоников Никита**"
   ]
  },
  {
   "cell_type": "markdown",
   "id": "203aa2a5",
   "metadata": {},
   "source": [
    "# Дз №1 BigData"
   ]
  },
  {
   "cell_type": "code",
   "execution_count": 1,
   "id": "55ac0181",
   "metadata": {},
   "outputs": [
    {
     "name": "stdout",
     "output_type": "stream",
     "text": [
      "HW 1. Bash. Hadoop. MapReduce.-2.ipynb\tincome.csv  shakespeare.txt\r\n",
      "hw_map_reduce.ipynb\t\t\tlogs.csv\r\n"
     ]
    }
   ],
   "source": [
    "!ls"
   ]
  },
  {
   "cell_type": "code",
   "execution_count": 2,
   "id": "8d1dbac1",
   "metadata": {},
   "outputs": [],
   "source": [
    "!hdfs dfs -mkdir /input"
   ]
  },
  {
   "cell_type": "code",
   "execution_count": 3,
   "id": "038c1494",
   "metadata": {},
   "outputs": [
    {
     "name": "stdout",
     "output_type": "stream",
     "text": [
      "Found 1 items\r\n",
      "drwxr-xr-x   - root supergroup          0 2024-06-10 22:09 /input\r\n"
     ]
    }
   ],
   "source": [
    "!hdfs dfs -ls /"
   ]
  },
  {
   "cell_type": "code",
   "execution_count": 4,
   "id": "e3f047b0",
   "metadata": {},
   "outputs": [],
   "source": [
    "!hdfs dfs -ls /input"
   ]
  },
  {
   "cell_type": "code",
   "execution_count": 5,
   "id": "736d76f2",
   "metadata": {},
   "outputs": [],
   "source": [
    "!hdfs dfs -put ./shakespeare.txt /input/shakespeare.txt\n",
    "!hdfs dfs -put ./income.csv /input/income.csv\n",
    "!hdfs dfs -put ./logs.csv /input/logs.csv"
   ]
  },
  {
   "cell_type": "code",
   "execution_count": 6,
   "id": "9c6438a8",
   "metadata": {},
   "outputs": [
    {
     "name": "stdout",
     "output_type": "stream",
     "text": [
      "Found 3 items\r\n",
      "-rw-r--r--   1 root supergroup   48702760 2024-06-10 22:09 /input/income.csv\r\n",
      "-rw-r--r--   1 root supergroup   36443383 2024-06-10 22:09 /input/logs.csv\r\n",
      "-rw-r--r--   1 root supergroup     148226 2024-06-10 22:09 /input/shakespeare.txt\r\n"
     ]
    }
   ],
   "source": [
    "!hdfs dfs -ls /input"
   ]
  },
  {
   "cell_type": "markdown",
   "id": "08158682",
   "metadata": {},
   "source": [
    "**2.1 Подсчет слов в тексте**\n",
    "\n",
    "В рамках данного задания вам нужно подсчитать кол-во слов в тексте Шекспира (файл приложен к ДЗ в архиве datasets), то есть необходимо реализовать базовый функционал утилиты word count.\n",
    "\n",
    "**Важно** - подсчитывайте число только тех слов, длина которых больше 4 символов. Проводить процесс удаления знаков препинания и прочих символов **не нужно**\n",
    "\n",
    "Ниже вам представлены ячейки, в которых вы должны описать структуру маппера/редьсюера и ниже вызвать их в bash-скрипте запуска MR-таски"
   ]
  },
  {
   "cell_type": "code",
   "execution_count": 7,
   "id": "b2cb85ef",
   "metadata": {},
   "outputs": [
    {
     "name": "stdout",
     "output_type": "stream",
     "text": [
      "\r\n",
      "\r\n",
      "\r\n",
      "\r\n",
      "\r\n",
      "\r\n",
      "\r\n",
      "\r\n",
      "\r\n",
      "\r\n",
      "\r\n",
      "\r\n",
      "\r\n",
      "\r\n",
      "\r\n",
      "\r\n",
      "\r\n",
      "\r\n",
      "\r\n",
      "\r\n",
      "\r\n",
      "\r\n",
      "\r\n",
      "\r\n",
      "\r\n",
      "\r\n",
      "\r\n",
      "\r\n",
      "\r\n",
      "\r\n",
      "\r\n",
      "\r\n",
      "\r\n",
      "\r\n",
      "\r\n",
      "\r\n",
      "\r\n",
      "\r\n",
      "\r\n",
      "\r\n",
      "\r\n",
      "\r\n",
      "\r\n",
      "\r\n",
      "\r\n",
      "\r\n",
      "\r\n",
      "\r\n",
      "\r\n",
      "\r\n",
      "\r\n",
      "\r\n",
      "\r\n",
      "\r\n",
      "\r\n",
      "\r\n",
      "SCENE. ��� During the greater part of the Play in Verona; once, in th"
     ]
    }
   ],
   "source": [
    "!hdfs dfs -head /input/shakespeare.txt"
   ]
  },
  {
   "cell_type": "markdown",
   "id": "f9fc7470",
   "metadata": {},
   "source": [
    "**Mapper**"
   ]
  },
  {
   "cell_type": "code",
   "execution_count": 8,
   "id": "f9f3215d",
   "metadata": {},
   "outputs": [
    {
     "name": "stdout",
     "output_type": "stream",
     "text": [
      "Writing mapper_shakespeare.py\n"
     ]
    }
   ],
   "source": [
    "%%writefile mapper_shakespeare.py\n",
    "\n",
    "import sys\n",
    "\n",
    "for line in sys.stdin:\n",
    "    \n",
    "    words = line.strip().split()\n",
    "    \n",
    "    for word in words:\n",
    "        if len(word) > 4:\n",
    "            print(word, 1, sep='+')"
   ]
  },
  {
   "cell_type": "markdown",
   "id": "9b4173a2",
   "metadata": {},
   "source": [
    "**Reducer**"
   ]
  },
  {
   "cell_type": "code",
   "execution_count": 9,
   "id": "d55e9645",
   "metadata": {},
   "outputs": [
    {
     "name": "stdout",
     "output_type": "stream",
     "text": [
      "Writing reducer_shakespeare.py\n"
     ]
    }
   ],
   "source": [
    "%%writefile reducer_shakespeare.py\n",
    "\n",
    "import sys\n",
    "\n",
    "current_word = None\n",
    "word_count = 0\n",
    "\n",
    "for line in sys.stdin:\n",
    "    \n",
    "    word, count = line.strip().split('+')\n",
    "    count = int(count)\n",
    "    \n",
    "    if current_word != word:\n",
    "        if current_word:\n",
    "            print(current_word, word_count, sep='+')\n",
    "        current_word = word\n",
    "        word_count = 0\n",
    "        \n",
    "    word_count += count\n",
    "    \n",
    "if current_word:\n",
    "    print(current_word, word_count, sep='+')"
   ]
  },
  {
   "cell_type": "code",
   "execution_count": 10,
   "id": "617fba73",
   "metadata": {},
   "outputs": [],
   "source": [
    "!hdfs dfs -mkdir /word_count_task"
   ]
  },
  {
   "cell_type": "code",
   "execution_count": 11,
   "id": "0db96afb",
   "metadata": {},
   "outputs": [
    {
     "name": "stdout",
     "output_type": "stream",
     "text": [
      "Found 2 items\r\n",
      "drwxr-xr-x   - root supergroup          0 2024-06-10 22:09 /input\r\n",
      "drwxr-xr-x   - root supergroup          0 2024-06-10 22:09 /word_count_task\r\n"
     ]
    }
   ],
   "source": [
    "!hdfs dfs -ls /"
   ]
  },
  {
   "cell_type": "code",
   "execution_count": 12,
   "id": "e22e7ec2",
   "metadata": {},
   "outputs": [
    {
     "name": "stdout",
     "output_type": "stream",
     "text": [
      "Deleted /word_count_task\n",
      "packageJobJar: [/tmp/hadoop-unjar6492483205502628900/] [] /tmp/streamjob2665885174503689338.jar tmpDir=null\n",
      "2024-06-10 22:10:04 INFO  DefaultNoHARMFailoverProxyProvider:64 - Connecting to ResourceManager at resourcemanager/172.20.0.5:8032\n",
      "2024-06-10 22:10:04 INFO  DefaultNoHARMFailoverProxyProvider:64 - Connecting to ResourceManager at resourcemanager/172.20.0.5:8032\n",
      "2024-06-10 22:10:04 INFO  JobResourceUploader:907 - Disabling Erasure Coding for path: /tmp/hadoop-yarn/staging/root/.staging/job_1718057162184_0001\n",
      "2024-06-10 22:10:04 INFO  FileInputFormat:266 - Total input files to process : 1\n",
      "2024-06-10 22:10:05 INFO  JobSubmitter:202 - number of splits:2\n",
      "2024-06-10 22:10:05 INFO  JobSubmitter:298 - Submitting tokens for job: job_1718057162184_0001\n",
      "2024-06-10 22:10:05 INFO  JobSubmitter:299 - Executing with tokens: []\n",
      "2024-06-10 22:10:06 INFO  Configuration:2854 - resource-types.xml not found\n",
      "2024-06-10 22:10:06 INFO  ResourceUtils:476 - Unable to find 'resource-types.xml'.\n",
      "2024-06-10 22:10:06 INFO  YarnClientImpl:338 - Submitted application application_1718057162184_0001\n",
      "2024-06-10 22:10:06 INFO  Job:1682 - The url to track the job: http://resourcemanager:8088/proxy/application_1718057162184_0001/\n",
      "2024-06-10 22:10:06 INFO  Job:1727 - Running job: job_1718057162184_0001\n",
      "2024-06-10 22:10:18 INFO  Job:1748 - Job job_1718057162184_0001 running in uber mode : false\n",
      "2024-06-10 22:10:18 INFO  Job:1755 -  map 0% reduce 0%\n",
      "2024-06-10 22:10:30 INFO  Job:1755 -  map 100% reduce 0%\n",
      "2024-06-10 22:10:37 INFO  Job:1755 -  map 100% reduce 100%\n",
      "2024-06-10 22:10:38 INFO  Job:1766 - Job job_1718057162184_0001 completed successfully\n",
      "2024-06-10 22:10:38 INFO  Job:1773 - Counters: 54\n",
      "\tFile System Counters\n",
      "\t\tFILE: Number of bytes read=131544\n",
      "\t\tFILE: Number of bytes written=1103228\n",
      "\t\tFILE: Number of read operations=0\n",
      "\t\tFILE: Number of large read operations=0\n",
      "\t\tFILE: Number of write operations=0\n",
      "\t\tHDFS: Number of bytes read=152500\n",
      "\t\tHDFS: Number of bytes written=56596\n",
      "\t\tHDFS: Number of read operations=11\n",
      "\t\tHDFS: Number of large read operations=0\n",
      "\t\tHDFS: Number of write operations=2\n",
      "\t\tHDFS: Number of bytes read erasure-coded=0\n",
      "\tJob Counters \n",
      "\t\tLaunched map tasks=2\n",
      "\t\tLaunched reduce tasks=1\n",
      "\t\tRack-local map tasks=2\n",
      "\t\tTotal time spent by all maps in occupied slots (ms)=14660\n",
      "\t\tTotal time spent by all reduces in occupied slots (ms)=4329\n",
      "\t\tTotal time spent by all map tasks (ms)=14660\n",
      "\t\tTotal time spent by all reduce tasks (ms)=4329\n",
      "\t\tTotal vcore-milliseconds taken by all map tasks=14660\n",
      "\t\tTotal vcore-milliseconds taken by all reduce tasks=4329\n",
      "\t\tTotal megabyte-milliseconds taken by all map tasks=15011840\n",
      "\t\tTotal megabyte-milliseconds taken by all reduce tasks=4432896\n",
      "\tMap-Reduce Framework\n",
      "\t\tMap input records=5282\n",
      "\t\tMap output records=10480\n",
      "\t\tMap output bytes=110578\n",
      "\t\tMap output materialized bytes=131550\n",
      "\t\tInput split bytes=178\n",
      "\t\tCombine input records=0\n",
      "\t\tCombine output records=0\n",
      "\t\tReduce input groups=5159\n",
      "\t\tReduce shuffle bytes=131550\n",
      "\t\tReduce input records=10480\n",
      "\t\tReduce output records=5159\n",
      "\t\tSpilled Records=20960\n",
      "\t\tShuffled Maps =2\n",
      "\t\tFailed Shuffles=0\n",
      "\t\tMerged Map outputs=2\n",
      "\t\tGC time elapsed (ms)=317\n",
      "\t\tCPU time spent (ms)=5230\n",
      "\t\tPhysical memory (bytes) snapshot=805560320\n",
      "\t\tVirtual memory (bytes) snapshot=7845498880\n",
      "\t\tTotal committed heap usage (bytes)=635437056\n",
      "\t\tPeak Map Physical memory (bytes)=308002816\n",
      "\t\tPeak Map Virtual memory (bytes)=2614308864\n",
      "\t\tPeak Reduce Physical memory (bytes)=189894656\n",
      "\t\tPeak Reduce Virtual memory (bytes)=2617028608\n",
      "\tShuffle Errors\n",
      "\t\tBAD_ID=0\n",
      "\t\tCONNECTION=0\n",
      "\t\tIO_ERROR=0\n",
      "\t\tWRONG_LENGTH=0\n",
      "\t\tWRONG_MAP=0\n",
      "\t\tWRONG_REDUCE=0\n",
      "\tFile Input Format Counters \n",
      "\t\tBytes Read=152322\n",
      "\tFile Output Format Counters \n",
      "\t\tBytes Written=56596\n",
      "2024-06-10 22:10:38 INFO  StreamJob:1029 - Output directory: /word_count_task\n"
     ]
    }
   ],
   "source": [
    "%%bash\n",
    "## шаблон для запуска MR таски\n",
    "\n",
    "# обязательная чистка директории, куда будем складывать результат отрабоки mr\n",
    "hdfs dfs -rm -r /word_count_task || true\n",
    "\n",
    "# запус mr таски с указанием пути до нужного jar\n",
    "hadoop jar /opt/hadoop/share/hadoop/tools/lib/hadoop-streaming-3.3.6.jar \\\n",
    "    -D mapreduce.job.name=\"word-count\" \\\n",
    "    -files ./mapper_shakespeare.py,./reducer_shakespeare.py \\\n",
    "    -mapper \"python3 mapper_shakespeare.py\" \\\n",
    "    -reducer \"python3 reducer_shakespeare.py\" \\\n",
    "    -input /input/shakespeare.txt \\\n",
    "    -output /word_count_task"
   ]
  },
  {
   "cell_type": "code",
   "execution_count": 13,
   "id": "f011f1c1",
   "metadata": {},
   "outputs": [
    {
     "name": "stdout",
     "output_type": "stream",
     "text": [
      "Found 2 items\r\n",
      "-rw-r--r--   1 root supergroup          0 2024-06-10 22:10 /word_count_task/_SUCCESS\r\n",
      "-rw-r--r--   1 root supergroup      56596 2024-06-10 22:10 /word_count_task/part-00000\r\n"
     ]
    }
   ],
   "source": [
    "!hdfs dfs -ls /word_count_task"
   ]
  },
  {
   "cell_type": "code",
   "execution_count": 14,
   "id": "bd3232c9",
   "metadata": {
    "scrolled": false
   },
   "outputs": [
    {
     "name": "stdout",
     "output_type": "stream",
     "text": [
      "&amp;c.+1\t\r\n",
      "&amp;c.]+2\t\r\n",
      "'Ay.'+2\t\r\n",
      "'Ay:'+2\t\r\n",
      "'Heart's+4\t\r\n",
      "'Hold,+1\t\r\n",
      "'I'll+1\t\r\n",
      "'Juliet.']+1\t\r\n",
      "'Romeo+2\t\r\n",
      "'Signior+1\t\r\n",
      "'Then+1\t\r\n",
      "'Twixt+1\t\r\n",
      "'Tybalt+1\t\r\n",
      "'When+1\t\r\n",
      "'Where+1\t\r\n",
      "'Wilt+1\t\r\n",
      "'Yea,'+2\t\r\n",
      "'Your+1\t\r\n",
      "'banished,'+2\t\r\n",
      "'dost+1\t\r\n",
      "'fall'st+1\t\r\n",
      "'gainst+1\t\r\n",
      "'haviour+1\t\r\n",
      "'music+2\t\r\n",
      "'pothecary,+1\t\r\n",
      "'silver+2\t\r\n",
      "'tis;+1\t\r\n",
      "'twas+3\t\r\n",
      "'twere+1\t\r\n",
      "'twill+1\t\r\n",
      "'twixt+1\t\r\n",
      "'twould+1\t\r\n",
      "'villain'+1\t\r\n",
      "'ware,+1\t\r\n",
      "-What,+1\t\r\n",
      "Abate+1\t\r\n",
      "Above+1\t\r\n",
      "Abraham+1\t\r\n",
      "Abraham,+1\t\r\n",
      "Abraham.+5\t\r\n",
      "Accurs'd,+1\t\r\n",
      "Accursed+1\t\r\n",
      "Acquaint+1\t\r\n",
      "Adding+1\t\r\n",
      "Adieu,+1\t\r\n",
      "Adversity's+1\t\r\n",
      "Affection+1\t\r\n",
      "Affliction+1\t\r\n",
      "Afore+1\t\r\n",
      "After+1\t\r\n",
      "Against+1\t\r\n",
      "Alack+2\t\r\n",
      "Alack,+4\t\r\n",
      "Alas,+4\t\r\n",
      "Alike+1\t\r\n",
      "Alive+1\t\r\n",
      "Alone,+1\t\r\n",
      "Amen!+1\t\r\n",
      "Amen,+1\t\r\n",
      "Among+2\t\r\n",
      "Ancient+1\t\r\n",
      "Angelica;+1\t\r\n",
      "Anon,+2\t\r\n",
      "Anon.+1\t\r\n",
      "Anon?+1\t\r\n",
      "Anselmo+1\t\r\n",
      "Answer+1\t\r\n",
      "Antony!+1\t\r\n",
      "Apothecary.+5\t\r\n",
      "Apothecary.]+1\t\r\n",
      "Appear+1\t\r\n",
      "April+1\t\r\n",
      "Arise,+1\t\r\n",
      "Arise;+1\t\r\n",
      "Arms,+1\t\r\n",
      "Ascend+1\t\r\n",
      "Athwart+1\t\r\n",
      "Attendants.+1\t\r\n",
      "Attendants.]+2\t\r\n",
      "Attendants;+1\t\r\n",
      "Aurora's+1\t\r\n",
      "Away,+1\t\r\n",
      "Back,+1\t\r\n",
      "Balthasar+1\t\r\n",
      "Balthasar,+1\t\r\n",
      "Balthasar.+12\t\r\n",
      "Balthasar.]+4\t\r\n",
      "Balthasar?+1\t\r\n",
      "Banish'd+1\t\r\n",
      "Bearing+1\t\r\n",
      "Beautiful+1\t\r\n",
      "Beauty+1\t\r\n",
      "Because+3\t\r\n",
      "B"
     ]
    }
   ],
   "source": [
    "!hdfs dfs -head /word_count_task/part-00000"
   ]
  },
  {
   "cell_type": "code",
   "execution_count": 15,
   "id": "c95f1294",
   "metadata": {},
   "outputs": [
    {
     "name": "stdout",
     "output_type": "stream",
     "text": [
      "Romeo.+171\t\r\n",
      "Juliet.+123\t\r\n",
      "Capulet.+102\t\r\n"
     ]
    }
   ],
   "source": [
    "!hdfs dfs -cat /word_count_task/* | grep  -E 'Romeo\\.|Juliet\\.|Capulet\\.' | sort -t$'+' -k2.2nr  | head -n 3"
   ]
  },
  {
   "cell_type": "markdown",
   "id": "122c9281",
   "metadata": {},
   "source": [
    "**2.2 Поиск максимального дохода у филиалов компаний по разным странам**\n",
    "\n",
    "В данном задании нужно поработать с  информацией о доходах больших компаний и их филиалах в разных странных за некоторый период. Данные представлены в след. формате: `страна;компания;дата;доход`. Вам необходимо найти максимальный доход у каждой компании в отдельности по каждой представленной стране в данных.\n",
    "\n",
    "Результат работы скрипта должен выглядеть следующим образом:\n",
    "\n",
    "```bash\n",
    "country  company                    income\n",
    "Austria  Rodriguez, Sims and Arias  123456\n",
    "USA      Rios-Lewis                 789998\n",
    "Canada   Thompson-Mendez            148345\n",
    "```\n",
    "\n",
    "**Рекомендации**\n",
    "\n",
    "1. В рамках этой задачи вам могу пригодиться дополнительные параметры mr таски, отвечающие за настройку шаффла, и правил сортировки ключей внутри него. Почитать о примерах их использования можно [здесь](https://hadoop.apache.org/docs/current/hadoop-streaming/HadoopStreaming.html#More_Usage_Examples).\n",
    "\n",
    "2. Не рекомендуем использовать `\\t` в качестве символа разделителя для сложного ключа (потому что по дефолту таб используется для разделения колонок данных, и ключом в таком случае будет только первая колонка до таба). Если вы будете собирать сложный ключ для нужной вам сортировки данных, лучше всего будет использовать другие симловы, к примеру `+, =`\n",
    "\n",
    "3. Как и в задании 2.1, вы можете создать набор ячеек, куда занесете код своих мапперы и редьюсеры, и также соберете код запуска MR таски. Нам нужно, чтобы вы предоставили нам в качестве решения этой задачи все эти составляющие в рамках этого ноутбука."
   ]
  },
  {
   "cell_type": "code",
   "execution_count": 16,
   "id": "674082e4",
   "metadata": {},
   "outputs": [
    {
     "name": "stdout",
     "output_type": "stream",
     "text": [
      "\r\n",
      "\r\n",
      "\r\n",
      "\r\n",
      "\r\n",
      "\r\n",
      "\r\n",
      "\r\n",
      "\r\n",
      "\r\n",
      "\r\n",
      "\r\n",
      "\r\n",
      "\r\n",
      "\r\n",
      "\r\n",
      "\r\n",
      "\r\n",
      "\r\n",
      "\r\n",
      "\r\n",
      "Austria;Smith, Smith and Morales;2022-01-04;86451"
     ]
    }
   ],
   "source": [
    "!hdfs dfs -head /input/income.csv"
   ]
  },
  {
   "cell_type": "markdown",
   "id": "73d92953",
   "metadata": {},
   "source": [
    "**Mapper**"
   ]
  },
  {
   "cell_type": "code",
   "execution_count": 17,
   "id": "13cb5da8",
   "metadata": {},
   "outputs": [
    {
     "name": "stdout",
     "output_type": "stream",
     "text": [
      "Writing mapper_income.py\n"
     ]
    }
   ],
   "source": [
    "%%writefile mapper_income.py\n",
    "\n",
    "import sys\n",
    "\n",
    "for line in sys.stdin:\n",
    "    \n",
    "    country, company, _, income = line.strip().split(';')\n",
    "    \n",
    "    print(f'{country}+{company}={income}')"
   ]
  },
  {
   "cell_type": "markdown",
   "id": "dc6ce404",
   "metadata": {},
   "source": [
    "**Reducer**"
   ]
  },
  {
   "cell_type": "code",
   "execution_count": 18,
   "id": "655d8128",
   "metadata": {},
   "outputs": [
    {
     "name": "stdout",
     "output_type": "stream",
     "text": [
      "Writing reducer_income.py\n"
     ]
    }
   ],
   "source": [
    "%%writefile reducer_income.py\n",
    "\n",
    "import sys\n",
    "\n",
    "current_key = None\n",
    "max_income = 0\n",
    "\n",
    "for line in sys.stdin:\n",
    "    line = line.strip()\n",
    "    key, income = line.split('=')\n",
    "    try:\n",
    "        income = int(income)\n",
    "    except ValueError: # обработка исключения, в случае, если income не является числом\n",
    "        income = 0\n",
    "    \n",
    "    if current_key == key:\n",
    "        if income > max_income:\n",
    "            max_income = income\n",
    "    else:\n",
    "        if current_key:\n",
    "            country, company = current_key.split('+')\n",
    "            print(f'{country}+{company}+{max_income}')\n",
    "        current_key = key\n",
    "        max_income = income\n",
    "\n",
    "if current_key:\n",
    "    country, company = current_key.split('+')\n",
    "    print(f'{country}\\t{company}\\t{max_income}')"
   ]
  },
  {
   "cell_type": "code",
   "execution_count": 19,
   "id": "267ab0b4",
   "metadata": {},
   "outputs": [],
   "source": [
    "!hdfs dfs -mkdir /income_task"
   ]
  },
  {
   "cell_type": "code",
   "execution_count": 20,
   "id": "5e4e2bdd",
   "metadata": {},
   "outputs": [
    {
     "name": "stdout",
     "output_type": "stream",
     "text": [
      "Deleted /income_task\n",
      "packageJobJar: [/tmp/hadoop-unjar7101891798784520687/] [] /tmp/streamjob7106767096276706957.jar tmpDir=null\n",
      "2024-06-10 22:10:54 INFO  DefaultNoHARMFailoverProxyProvider:64 - Connecting to ResourceManager at resourcemanager/172.20.0.5:8032\n",
      "2024-06-10 22:10:54 INFO  DefaultNoHARMFailoverProxyProvider:64 - Connecting to ResourceManager at resourcemanager/172.20.0.5:8032\n",
      "2024-06-10 22:10:54 INFO  JobResourceUploader:907 - Disabling Erasure Coding for path: /tmp/hadoop-yarn/staging/root/.staging/job_1718057162184_0002\n",
      "2024-06-10 22:10:55 INFO  FileInputFormat:266 - Total input files to process : 1\n",
      "2024-06-10 22:10:55 INFO  JobSubmitter:202 - number of splits:2\n",
      "2024-06-10 22:10:55 INFO  JobSubmitter:298 - Submitting tokens for job: job_1718057162184_0002\n",
      "2024-06-10 22:10:55 INFO  JobSubmitter:299 - Executing with tokens: []\n",
      "2024-06-10 22:10:55 INFO  Configuration:2854 - resource-types.xml not found\n",
      "2024-06-10 22:10:55 INFO  ResourceUtils:476 - Unable to find 'resource-types.xml'.\n",
      "2024-06-10 22:10:56 INFO  YarnClientImpl:338 - Submitted application application_1718057162184_0002\n",
      "2024-06-10 22:10:56 INFO  Job:1682 - The url to track the job: http://resourcemanager:8088/proxy/application_1718057162184_0002/\n",
      "2024-06-10 22:10:56 INFO  Job:1727 - Running job: job_1718057162184_0002\n",
      "2024-06-10 22:11:02 INFO  Job:1748 - Job job_1718057162184_0002 running in uber mode : false\n",
      "2024-06-10 22:11:02 INFO  Job:1755 -  map 0% reduce 0%\n",
      "2024-06-10 22:11:10 INFO  Job:1755 -  map 50% reduce 0%\n",
      "2024-06-10 22:11:11 INFO  Job:1755 -  map 100% reduce 0%\n",
      "2024-06-10 22:11:16 INFO  Job:1755 -  map 100% reduce 100%\n",
      "2024-06-10 22:11:16 INFO  Job:1766 - Job job_1718057162184_0002 completed successfully\n",
      "2024-06-10 22:11:16 INFO  Job:1773 - Counters: 55\n",
      "\tFile System Counters\n",
      "\t\tFILE: Number of bytes read=39702766\n",
      "\t\tFILE: Number of bytes written=80245510\n",
      "\t\tFILE: Number of read operations=0\n",
      "\t\tFILE: Number of large read operations=0\n",
      "\t\tFILE: Number of write operations=0\n",
      "\t\tHDFS: Number of bytes read=48707024\n",
      "\t\tHDFS: Number of bytes written=890718\n",
      "\t\tHDFS: Number of read operations=11\n",
      "\t\tHDFS: Number of large read operations=0\n",
      "\t\tHDFS: Number of write operations=2\n",
      "\t\tHDFS: Number of bytes read erasure-coded=0\n",
      "\tJob Counters \n",
      "\t\tKilled map tasks=1\n",
      "\t\tLaunched map tasks=2\n",
      "\t\tLaunched reduce tasks=1\n",
      "\t\tRack-local map tasks=2\n",
      "\t\tTotal time spent by all maps in occupied slots (ms)=9771\n",
      "\t\tTotal time spent by all reduces in occupied slots (ms)=3907\n",
      "\t\tTotal time spent by all map tasks (ms)=9771\n",
      "\t\tTotal time spent by all reduce tasks (ms)=3907\n",
      "\t\tTotal vcore-milliseconds taken by all map tasks=9771\n",
      "\t\tTotal vcore-milliseconds taken by all reduce tasks=3907\n",
      "\t\tTotal megabyte-milliseconds taken by all map tasks=10005504\n",
      "\t\tTotal megabyte-milliseconds taken by all reduce tasks=4000768\n",
      "\tMap-Reduce Framework\n",
      "\t\tMap input records=1000000\n",
      "\t\tMap output records=1000000\n",
      "\t\tMap output bytes=37702760\n",
      "\t\tMap output materialized bytes=39702772\n",
      "\t\tInput split bytes=168\n",
      "\t\tCombine input records=0\n",
      "\t\tCombine output records=0\n",
      "\t\tReduce input groups=999975\n",
      "\t\tReduce shuffle bytes=39702772\n",
      "\t\tReduce input records=1000000\n",
      "\t\tReduce output records=23700\n",
      "\t\tSpilled Records=2000000\n",
      "\t\tShuffled Maps =2\n",
      "\t\tFailed Shuffles=0\n",
      "\t\tMerged Map outputs=2\n",
      "\t\tGC time elapsed (ms)=191\n",
      "\t\tCPU time spent (ms)=9580\n",
      "\t\tPhysical memory (bytes) snapshot=875028480\n",
      "\t\tVirtual memory (bytes) snapshot=7848730624\n",
      "\t\tTotal committed heap usage (bytes)=676331520\n",
      "\t\tPeak Map Physical memory (bytes)=329031680\n",
      "\t\tPeak Map Virtual memory (bytes)=2613575680\n",
      "\t\tPeak Reduce Physical memory (bytes)=222199808\n",
      "\t\tPeak Reduce Virtual memory (bytes)=2622488576\n",
      "\tShuffle Errors\n",
      "\t\tBAD_ID=0\n",
      "\t\tCONNECTION=0\n",
      "\t\tIO_ERROR=0\n",
      "\t\tWRONG_LENGTH=0\n",
      "\t\tWRONG_MAP=0\n",
      "\t\tWRONG_REDUCE=0\n",
      "\tFile Input Format Counters \n",
      "\t\tBytes Read=48706856\n",
      "\tFile Output Format Counters \n",
      "\t\tBytes Written=890718\n",
      "2024-06-10 22:11:16 INFO  StreamJob:1029 - Output directory: /income_task\n"
     ]
    }
   ],
   "source": [
    "%%bash\n",
    "## шаблон для запуска MR таски\n",
    "\n",
    "# обязательная чистка директории, куда будем складывать результат отрабоки mr\n",
    "hdfs dfs -rm -r /income_task || true\n",
    "\n",
    "# запус mr таски с указанием пути до нужного jar\n",
    "hadoop jar /opt/hadoop/share/hadoop/tools/lib/hadoop-streaming-3.3.6.jar \\\n",
    "    -D mapreduce.job.name=\"income\" \\\n",
    "    -D mapreduce.job.reduces=1 \\\n",
    "    -files ./mapper_income.py,./reducer_income.py \\\n",
    "    -mapper \"python3 mapper_income.py\" \\\n",
    "    -reducer \"python3 reducer_income.py\" \\\n",
    "    -input /input/income.csv \\\n",
    "    -output /income_task"
   ]
  },
  {
   "cell_type": "code",
   "execution_count": 21,
   "id": "0d19cd40",
   "metadata": {},
   "outputs": [
    {
     "name": "stdout",
     "output_type": "stream",
     "text": [
      "British Indian Ocean Territory (Chagos Archipelago)  Thompson-Mendez            974420\t\n",
      "China                                                Rios-Lewis                 994876\t\n",
      "India                                                Thompson-Mendez            953060\t\n",
      "Kazakhstan                                           Moore, Woods and Thomas    994117\t\n",
      "Madagascar                                           Chavez Group               986514\t\n",
      "New Zealand                                          Rodriguez, Sims and Arias  888292\t\n"
     ]
    }
   ],
   "source": [
    "%%bash\n",
    "## запустите эту команду, чтобы вывести результат работы по определенным компаниям, которые мы указали на grep\n",
    "## Это нам будет необходимо для визуального анализа результата работы вашего скрипта\n",
    "## в sort можете указать тот разделитель колонок, с которым у вас результат выплевывает редьюсер\n",
    "## укажите путь до той директории на hdfs, куда вы складывали результат\n",
    "\n",
    "hdfs dfs -cat /income_task/* | \\\n",
    "grep -E \"China.*?Rios-Lewis|India.*?Thompson-Mendez|Kazakhstan.*?Moore, Woods and Thomas|Madagascar.*?Chavez Group|New Zealand.*?Rodriguez, Sims and Arias\" | \\\n",
    "column -t -s$'+'"
   ]
  },
  {
   "cell_type": "markdown",
   "id": "49792999",
   "metadata": {},
   "source": [
    "**2.3 Решаем задачу поиска самых посещаемых сайтов**\n",
    "\n",
    "В данном задании нужно поработать с логом данных о посещении юзерами различных сайтов.\n",
    "Формат данных: `url;временная метка`. Вам нужно вывести топ 5 сайтов по посещаемости в каждую из дат, которая представлена в наших данных.\n",
    "\n",
    "Результат работы скрипта должен выглядеть следующим образом:\n",
    "\n",
    "```bash\n",
    "date        site                            count\n",
    "2024-05-25  https://gonzales-bautista.com/  987\n",
    "2024-05-25  https://smith.com/              654\n",
    "2024-05-25  https://www.smith.com/          321\n",
    "```\n",
    "\n",
    "**Рекомендации**\n",
    "\n",
    "1. Вам могу пригодиться дополнительные параметры mr таски, отвечающие за настройку шаффла, и правил сортировки ключей внутри него. Почитать о примерах их использования можно [здесь](https://hadoop.apache.org/docs/current/hadoop-streaming/HadoopStreaming.html#More_Usage_Examples).\n",
    "\n",
    "2. Не рекомендуем использовать `\\t` в качестве символа разделителя для сложного ключа (потому что по дефолту таб используется для разделения колонок данных, и ключом в таком случае будет только первая колонка до таба). Если вы будете собирать сложный ключ для нужной вам сортировки данных, лучше всего будет использовать другие симловы, к примеру `+, =`.\n",
    "\n",
    "3. Возможно, у вас не получится решить данную задачу за одну mr таску, тогда вы просто описываете в решении скрипты ваших мапперов, редьюсеров под каждую из mr тасок, которые вам нужно запустить для получения нужного результата.\n",
    "\n",
    "**Важно** помнить, что любой маппер и редьюсер должен работать за O(1) памяти, и если вы будете создавать какой-то список, куда будете складывать какие-то данные, то он не должен быть размера O(n). Если такой момент в вашем решении будет, пожалуйста, поясните его текстово, что с вашими переменными все ок, и у них нет размера O(n). "
   ]
  },
  {
   "cell_type": "code",
   "execution_count": 22,
   "id": "8d54dcbb",
   "metadata": {
    "scrolled": true
   },
   "outputs": [
    {
     "name": "stdout",
     "output_type": "stream",
     "text": [
      "\r\n",
      "\r\n",
      "\r\n",
      "\r\n",
      "\r\n",
      "\r\n",
      "\r\n",
      "\r\n",
      "\r\n",
      "\r\n",
      "\r\n",
      "\r\n",
      "\r\n",
      "\r\n",
      "\r\n",
      "\r\n",
      "\r\n",
      "https://gonzales-bautista.com/;2024-05-28 17:41:40.8"
     ]
    }
   ],
   "source": [
    "!hdfs dfs -head /input/logs.csv"
   ]
  },
  {
   "cell_type": "markdown",
   "id": "16f95df1",
   "metadata": {},
   "source": [
    "### MapReduce task 1"
   ]
  },
  {
   "cell_type": "markdown",
   "id": "3df2a6c4",
   "metadata": {},
   "source": [
    "**Mapper** получает на вход строку и преобразует ее в ключ вида **сайт+дата**, отбрасывая время."
   ]
  },
  {
   "cell_type": "code",
   "execution_count": 23,
   "id": "f8e170d2",
   "metadata": {},
   "outputs": [
    {
     "name": "stdout",
     "output_type": "stream",
     "text": [
      "Writing mapper_logs_1.py\n"
     ]
    }
   ],
   "source": [
    "%%writefile mapper_logs_1.py\n",
    "\n",
    "import sys\n",
    "\n",
    "for line in sys.stdin:\n",
    "    # Разделяем строку по разделителю ;\n",
    "    site, timestamp = line.strip().split(';')\n",
    "    date = timestamp.split(' ')[0]  # Извлекаем дату из временной метки\n",
    "    # Создаем ключ в формате дата+URL и выводим его с счетчиком 1\n",
    "    print(f\"{date}+{site}=1\")"
   ]
  },
  {
   "cell_type": "markdown",
   "id": "9252be34",
   "metadata": {},
   "source": [
    "**Reduser** получает на вход строку вида **сайт+дата** и считает общее количество элементов (количетсво посещения сайта в день)."
   ]
  },
  {
   "cell_type": "code",
   "execution_count": 24,
   "id": "156cd0b0",
   "metadata": {},
   "outputs": [
    {
     "name": "stdout",
     "output_type": "stream",
     "text": [
      "Writing reducer_logs_1.py\n"
     ]
    }
   ],
   "source": [
    "%%writefile reducer_logs_1.py\n",
    "\n",
    "import sys\n",
    "from collections import defaultdict\n",
    "\n",
    "current_key = None\n",
    "current_count = 0\n",
    "\n",
    "for line in sys.stdin:\n",
    "    # Разделяем строку по табуляции\n",
    "    key, count = line.strip().split('=')\n",
    "    count = int(count)\n",
    "    \n",
    "    if current_key == key:\n",
    "        current_count += count\n",
    "    else:\n",
    "        if current_key:\n",
    "            # Выводим текущий ключ и его общий счетчик\n",
    "            print(f\"{current_key}={current_count}\")\n",
    "        current_key = key\n",
    "        current_count = count\n",
    "\n",
    "if current_key == key:\n",
    "    # Не забываем про последний ключ\n",
    "    print(f\"{current_key}={current_count}\")"
   ]
  },
  {
   "cell_type": "markdown",
   "id": "d82fecef",
   "metadata": {},
   "source": [
    "### MapReduce task 2"
   ]
  },
  {
   "cell_type": "markdown",
   "id": "04a721b7",
   "metadata": {},
   "source": [
    "**Mapper** получает на вход строку вида **ключ + счетчик**, где **ключ = сайт + дата** и преобразует ее в ключ **дата+счетчик** "
   ]
  },
  {
   "cell_type": "code",
   "execution_count": 25,
   "id": "74c2fef4",
   "metadata": {},
   "outputs": [
    {
     "name": "stdout",
     "output_type": "stream",
     "text": [
      "Writing mapper_logs_2.py\n"
     ]
    }
   ],
   "source": [
    "%%writefile mapper_logs_2.py\n",
    "\n",
    "import sys\n",
    "\n",
    "for line in sys.stdin:\n",
    "    key, count = line.strip().split('=')\n",
    "    date, site = key.split('+')\n",
    "    count = int(count)\n",
    "    # Выводим ключ дата и значение в формате (count, URL)\n",
    "    print(f\"{date}={count}+{site}\")"
   ]
  },
  {
   "cell_type": "markdown",
   "id": "fdf72a03",
   "metadata": {},
   "source": [
    "**Reduser** получает на вход строку вида **дата+сайт+счетчик**, объединяет **количесто посещений** для каждой **даты**, сортирует и возвращает **топ-5 сайтов** для каждой **даты**."
   ]
  },
  {
   "cell_type": "code",
   "execution_count": 26,
   "id": "36cd9e6e",
   "metadata": {},
   "outputs": [
    {
     "name": "stdout",
     "output_type": "stream",
     "text": [
      "Writing reducer_logs_2.py\n"
     ]
    }
   ],
   "source": [
    "%%writefile reducer_logs_2.py\n",
    "\n",
    "import sys\n",
    "from heapq import nlargest\n",
    "from collections import defaultdict\n",
    "\n",
    "current_date = None\n",
    "site_counts = []\n",
    "\n",
    "def print_top_sites(date, site_counts):\n",
    "    # Находим топ-5 сайтов по посещаемости\n",
    "    top_sites = nlargest(5, site_counts, key=lambda x: x[0])\n",
    "    for count, site in top_sites:\n",
    "        print(f\"{date}+{site}={count}\")\n",
    "\n",
    "for line in sys.stdin:\n",
    "    date, count_site = line.strip().split('=')\n",
    "    count, site = count_site.split('+', 1)\n",
    "    count = int(count)\n",
    "    \n",
    "    if current_date == date:\n",
    "        site_counts.append((count, site))\n",
    "    else:\n",
    "        if current_date:\n",
    "            print_top_sites(current_date, site_counts)\n",
    "        current_date = date\n",
    "        site_counts = [(count, site)]\n",
    "\n",
    "if current_date == date:\n",
    "    print_top_sites(current_date, site_counts)\n"
   ]
  },
  {
   "cell_type": "markdown",
   "id": "f72fe1f5",
   "metadata": {},
   "source": [
    "Код имеет сложность памяти **O(1)**, т.к. мы храним **фиксированное** количество данных в памяти. Мы храним только **текущую дату** (current_date) и **список кортежей** (site_counts). Размер этого списка всегда равен **5 элементам**, т.к. храним только топ-5 посещаемых сайтов для каждой даты."
   ]
  },
  {
   "cell_type": "code",
   "execution_count": 27,
   "id": "f85b4703",
   "metadata": {},
   "outputs": [
    {
     "name": "stdout",
     "output_type": "stream",
     "text": [
      "2024-05-26+https://gonzales-bautista.com/=335\n",
      "2024-05-26+http://smith.com/=235\n",
      "2024-05-26+https://www.smith.com/=221\n",
      "2024-05-26+http://www.smith.com/=212\n",
      "2024-05-26+https://smith.com/=212\n",
      "2024-05-27+https://gonzales-bautista.com/=376\n",
      "2024-05-27+https://www.smith.com/=270\n",
      "2024-05-27+https://smith.com/=236\n",
      "2024-05-27+http://smith.com/=215\n",
      "2024-05-27+http://www.smith.com/=208\n",
      "2024-05-28+https://gonzales-bautista.com/=368\n",
      "2024-05-28+https://smith.com/=256\n",
      "2024-05-28+https://www.smith.com/=251\n",
      "2024-05-28+http://smith.com/=224\n",
      "2024-05-28+http://www.smith.com/=204\n",
      "2024-05-29+https://gonzales-bautista.com/=402\n",
      "2024-05-29+https://www.smith.com/=242\n",
      "2024-05-29+http://www.smith.com/=223\n",
      "2024-05-29+https://smith.com/=220\n",
      "2024-05-29+http://smith.com/=206\n",
      "2024-05-30+https://gonzales-bautista.com/=353\n",
      "2024-05-30+https://smith.com/=246\n",
      "2024-05-30+https://www.smith.com/=239\n",
      "2024-05-30+http://smith.com/=229\n",
      "2024-05-30+http://www.smith.com/=225\n",
      "2024-05-31+https://gonzales-bautista.com/=374\n",
      "2024-05-31+https://www.smith.com/=244\n",
      "2024-05-31+http://smith.com/=228\n",
      "2024-05-31+http://www.smith.com/=221\n",
      "2024-05-31+https://smith.com/=219\n",
      "2024-06-01+https://gonzales-bautista.com/=379\n",
      "2024-06-01+https://www.smith.com/=232\n",
      "2024-06-01+https://smith.com/=226\n",
      "2024-06-01+https://johnson.com/=195\n",
      "2024-06-01+http://smith.com/=191\n",
      "2024-06-02+http://smith.com/=7\n",
      "2024-06-02+https://gonzales-bautista.com/=7\n",
      "2024-06-02+https://www.williams.com/=6\n",
      "2024-06-02+http://lee.com/=5\n",
      "2024-06-02+http://miller.com/=5\n"
     ]
    }
   ],
   "source": [
    "!cat logs.csv | python3 mapper_logs_1.py | sort -k1,1| python3 reducer_logs_1.py | python3 mapper_logs_2.py | sort -k1,1 | python3 reducer_logs_2.py"
   ]
  },
  {
   "cell_type": "code",
   "execution_count": 28,
   "id": "bcf17f37",
   "metadata": {},
   "outputs": [],
   "source": [
    "!hdfs dfs -mkdir /logs_task_1\n",
    "!hdfs dfs -mkdir /logs_task_2"
   ]
  },
  {
   "cell_type": "code",
   "execution_count": 29,
   "id": "d5b8a0f2",
   "metadata": {},
   "outputs": [
    {
     "name": "stdout",
     "output_type": "stream",
     "text": [
      "Found 6 items\r\n",
      "drwxr-xr-x   - root supergroup          0 2024-06-10 22:11 /income_task\r\n",
      "drwxr-xr-x   - root supergroup          0 2024-06-10 22:09 /input\r\n",
      "drwxr-xr-x   - root supergroup          0 2024-06-10 22:11 /logs_task_1\r\n",
      "drwxr-xr-x   - root supergroup          0 2024-06-10 22:11 /logs_task_2\r\n",
      "drwxr-xr-x   - root supergroup          0 2024-06-10 22:10 /tmp\r\n",
      "drwxr-xr-x   - root supergroup          0 2024-06-10 22:10 /word_count_task\r\n"
     ]
    }
   ],
   "source": [
    "!hdfs dfs -ls /"
   ]
  },
  {
   "cell_type": "code",
   "execution_count": 30,
   "id": "4359b1b8",
   "metadata": {},
   "outputs": [
    {
     "name": "stdout",
     "output_type": "stream",
     "text": [
      "Deleted /logs_task_1\n",
      "Deleted /logs_task_2\n",
      "packageJobJar: [/tmp/hadoop-unjar3216941511325141483/] [] /tmp/streamjob877538214558123739.jar tmpDir=null\n",
      "2024-06-10 22:11:34 INFO  DefaultNoHARMFailoverProxyProvider:64 - Connecting to ResourceManager at resourcemanager/172.20.0.5:8032\n",
      "2024-06-10 22:11:34 INFO  DefaultNoHARMFailoverProxyProvider:64 - Connecting to ResourceManager at resourcemanager/172.20.0.5:8032\n",
      "2024-06-10 22:11:34 INFO  JobResourceUploader:907 - Disabling Erasure Coding for path: /tmp/hadoop-yarn/staging/root/.staging/job_1718057162184_0003\n",
      "2024-06-10 22:11:34 INFO  FileInputFormat:266 - Total input files to process : 1\n",
      "2024-06-10 22:11:34 INFO  JobSubmitter:202 - number of splits:2\n",
      "2024-06-10 22:11:35 INFO  JobSubmitter:298 - Submitting tokens for job: job_1718057162184_0003\n",
      "2024-06-10 22:11:35 INFO  JobSubmitter:299 - Executing with tokens: []\n",
      "2024-06-10 22:11:35 INFO  Configuration:2854 - resource-types.xml not found\n",
      "2024-06-10 22:11:35 INFO  ResourceUtils:476 - Unable to find 'resource-types.xml'.\n",
      "2024-06-10 22:11:35 INFO  YarnClientImpl:338 - Submitted application application_1718057162184_0003\n",
      "2024-06-10 22:11:35 INFO  Job:1682 - The url to track the job: http://resourcemanager:8088/proxy/application_1718057162184_0003/\n",
      "2024-06-10 22:11:35 INFO  Job:1727 - Running job: job_1718057162184_0003\n",
      "2024-06-10 22:11:41 INFO  Job:1748 - Job job_1718057162184_0003 running in uber mode : false\n",
      "2024-06-10 22:11:41 INFO  Job:1755 -  map 0% reduce 0%\n",
      "2024-06-10 22:11:48 INFO  Job:1755 -  map 50% reduce 0%\n",
      "2024-06-10 22:11:49 INFO  Job:1755 -  map 100% reduce 0%\n",
      "2024-06-10 22:11:54 INFO  Job:1755 -  map 100% reduce 100%\n",
      "2024-06-10 22:11:55 INFO  Job:1766 - Job job_1718057162184_0003 completed successfully\n",
      "2024-06-10 22:11:55 INFO  Job:1773 - Counters: 54\n",
      "\tFile System Counters\n",
      "\t\tFILE: Number of bytes read=28043389\n",
      "\t\tFILE: Number of bytes written=56926768\n",
      "\t\tFILE: Number of read operations=0\n",
      "\t\tFILE: Number of large read operations=0\n",
      "\t\tFILE: Number of write operations=0\n",
      "\t\tHDFS: Number of bytes read=36447643\n",
      "\t\tHDFS: Number of bytes written=11086384\n",
      "\t\tHDFS: Number of read operations=11\n",
      "\t\tHDFS: Number of large read operations=0\n",
      "\t\tHDFS: Number of write operations=2\n",
      "\t\tHDFS: Number of bytes read erasure-coded=0\n",
      "\tJob Counters \n",
      "\t\tLaunched map tasks=2\n",
      "\t\tLaunched reduce tasks=1\n",
      "\t\tRack-local map tasks=2\n",
      "\t\tTotal time spent by all maps in occupied slots (ms)=9284\n",
      "\t\tTotal time spent by all reduces in occupied slots (ms)=3555\n",
      "\t\tTotal time spent by all map tasks (ms)=9284\n",
      "\t\tTotal time spent by all reduce tasks (ms)=3555\n",
      "\t\tTotal vcore-milliseconds taken by all map tasks=9284\n",
      "\t\tTotal vcore-milliseconds taken by all reduce tasks=3555\n",
      "\t\tTotal megabyte-milliseconds taken by all map tasks=9506816\n",
      "\t\tTotal megabyte-milliseconds taken by all reduce tasks=3640320\n",
      "\tMap-Reduce Framework\n",
      "\t\tMap input records=700000\n",
      "\t\tMap output records=700000\n",
      "\t\tMap output bytes=26643383\n",
      "\t\tMap output materialized bytes=28043395\n",
      "\t\tInput split bytes=164\n",
      "\t\tCombine input records=0\n",
      "\t\tCombine output records=0\n",
      "\t\tReduce input groups=274260\n",
      "\t\tReduce shuffle bytes=28043395\n",
      "\t\tReduce input records=700000\n",
      "\t\tReduce output records=274260\n",
      "\t\tSpilled Records=1400000\n",
      "\t\tShuffled Maps =2\n",
      "\t\tFailed Shuffles=0\n",
      "\t\tMerged Map outputs=2\n",
      "\t\tGC time elapsed (ms)=198\n",
      "\t\tCPU time spent (ms)=8050\n",
      "\t\tPhysical memory (bytes) snapshot=883683328\n",
      "\t\tVirtual memory (bytes) snapshot=7856607232\n",
      "\t\tTotal committed heap usage (bytes)=655360000\n",
      "\t\tPeak Map Physical memory (bytes)=330289152\n",
      "\t\tPeak Map Virtual memory (bytes)=2619277312\n",
      "\t\tPeak Reduce Physical memory (bytes)=223956992\n",
      "\t\tPeak Reduce Virtual memory (bytes)=2621272064\n",
      "\tShuffle Errors\n",
      "\t\tBAD_ID=0\n",
      "\t\tCONNECTION=0\n",
      "\t\tIO_ERROR=0\n",
      "\t\tWRONG_LENGTH=0\n",
      "\t\tWRONG_MAP=0\n",
      "\t\tWRONG_REDUCE=0\n",
      "\tFile Input Format Counters \n",
      "\t\tBytes Read=36447479\n",
      "\tFile Output Format Counters \n",
      "\t\tBytes Written=11086384\n",
      "2024-06-10 22:11:55 INFO  StreamJob:1029 - Output directory: /logs_task_1\n",
      "packageJobJar: [/tmp/hadoop-unjar6548851831792583535/] [] /tmp/streamjob6979716496445404818.jar tmpDir=null\n",
      "2024-06-10 22:11:57 INFO  DefaultNoHARMFailoverProxyProvider:64 - Connecting to ResourceManager at resourcemanager/172.20.0.5:8032\n",
      "2024-06-10 22:11:57 INFO  DefaultNoHARMFailoverProxyProvider:64 - Connecting to ResourceManager at resourcemanager/172.20.0.5:8032\n",
      "2024-06-10 22:11:57 INFO  JobResourceUploader:907 - Disabling Erasure Coding for path: /tmp/hadoop-yarn/staging/root/.staging/job_1718057162184_0004\n",
      "2024-06-10 22:11:57 INFO  FileInputFormat:266 - Total input files to process : 1\n",
      "2024-06-10 22:11:58 INFO  JobSubmitter:202 - number of splits:2\n",
      "2024-06-10 22:11:58 INFO  JobSubmitter:298 - Submitting tokens for job: job_1718057162184_0004\n",
      "2024-06-10 22:11:58 INFO  JobSubmitter:299 - Executing with tokens: []\n",
      "2024-06-10 22:11:58 INFO  Configuration:2854 - resource-types.xml not found\n",
      "2024-06-10 22:11:58 INFO  ResourceUtils:476 - Unable to find 'resource-types.xml'.\n",
      "2024-06-10 22:11:58 INFO  YarnClientImpl:338 - Submitted application application_1718057162184_0004\n",
      "2024-06-10 22:11:58 INFO  Job:1682 - The url to track the job: http://resourcemanager:8088/proxy/application_1718057162184_0004/\n",
      "2024-06-10 22:11:58 INFO  Job:1727 - Running job: job_1718057162184_0004\n",
      "2024-06-10 22:12:06 INFO  Job:1748 - Job job_1718057162184_0004 running in uber mode : false\n",
      "2024-06-10 22:12:06 INFO  Job:1755 -  map 0% reduce 0%\n",
      "2024-06-10 22:12:12 INFO  Job:1755 -  map 50% reduce 0%\n",
      "2024-06-10 22:12:13 INFO  Job:1755 -  map 100% reduce 0%\n",
      "2024-06-10 22:12:17 INFO  Job:1755 -  map 100% reduce 100%\n",
      "2024-06-10 22:12:19 INFO  Job:1766 - Job job_1718057162184_0004 completed successfully\n",
      "2024-06-10 22:12:19 INFO  Job:1773 - Counters: 54\n",
      "\tFile System Counters\n",
      "\t\tFILE: Number of bytes read=11634910\n",
      "\t\tFILE: Number of bytes written=24109801\n",
      "\t\tFILE: Number of read operations=0\n",
      "\t\tFILE: Number of large read operations=0\n",
      "\t\tFILE: Number of write operations=0\n",
      "\t\tHDFS: Number of bytes read=11090660\n",
      "\t\tHDFS: Number of bytes written=1530\n",
      "\t\tHDFS: Number of read operations=11\n",
      "\t\tHDFS: Number of large read operations=0\n",
      "\t\tHDFS: Number of write operations=2\n",
      "\t\tHDFS: Number of bytes read erasure-coded=0\n",
      "\tJob Counters \n",
      "\t\tLaunched map tasks=2\n",
      "\t\tLaunched reduce tasks=1\n",
      "\t\tRack-local map tasks=2\n",
      "\t\tTotal time spent by all maps in occupied slots (ms)=6663\n",
      "\t\tTotal time spent by all reduces in occupied slots (ms)=2529\n",
      "\t\tTotal time spent by all map tasks (ms)=6663\n",
      "\t\tTotal time spent by all reduce tasks (ms)=2529\n",
      "\t\tTotal vcore-milliseconds taken by all map tasks=6663\n",
      "\t\tTotal vcore-milliseconds taken by all reduce tasks=2529\n",
      "\t\tTotal megabyte-milliseconds taken by all map tasks=6822912\n",
      "\t\tTotal megabyte-milliseconds taken by all reduce tasks=2589696\n",
      "\tMap-Reduce Framework\n",
      "\t\tMap input records=274260\n",
      "\t\tMap output records=274260\n",
      "\t\tMap output bytes=11086384\n",
      "\t\tMap output materialized bytes=11634916\n",
      "\t\tInput split bytes=180\n",
      "\t\tCombine input records=0\n",
      "\t\tCombine output records=0\n",
      "\t\tReduce input groups=274260\n",
      "\t\tReduce shuffle bytes=11634916\n",
      "\t\tReduce input records=274260\n",
      "\t\tReduce output records=40\n",
      "\t\tSpilled Records=548520\n",
      "\t\tShuffled Maps =2\n",
      "\t\tFailed Shuffles=0\n",
      "\t\tMerged Map outputs=2\n",
      "\t\tGC time elapsed (ms)=189\n",
      "\t\tCPU time spent (ms)=4930\n",
      "\t\tPhysical memory (bytes) snapshot=875044864\n",
      "\t\tVirtual memory (bytes) snapshot=7849107456\n",
      "\t\tTotal committed heap usage (bytes)=677380096\n",
      "\t\tPeak Map Physical memory (bytes)=326733824\n",
      "\t\tPeak Map Virtual memory (bytes)=2614173696\n",
      "\t\tPeak Reduce Physical memory (bytes)=229081088\n",
      "\t\tPeak Reduce Virtual memory (bytes)=2621136896\n",
      "\tShuffle Errors\n",
      "\t\tBAD_ID=0\n",
      "\t\tCONNECTION=0\n",
      "\t\tIO_ERROR=0\n",
      "\t\tWRONG_LENGTH=0\n",
      "\t\tWRONG_MAP=0\n",
      "\t\tWRONG_REDUCE=0\n",
      "\tFile Input Format Counters \n",
      "\t\tBytes Read=11090480\n",
      "\tFile Output Format Counters \n",
      "\t\tBytes Written=1530\n",
      "2024-06-10 22:12:19 INFO  StreamJob:1029 - Output directory: /logs_task_2\n"
     ]
    }
   ],
   "source": [
    "%%bash\n",
    "## шаблон для запуска MR таски\n",
    "\n",
    "# обязательная чистка директории, куда будем складывать результат отрабоки mr\n",
    "hdfs dfs -rm -r /logs_task_1 || true\n",
    "hdfs dfs -rm -r /logs_task_2 || true\n",
    "\n",
    "# запус 1 mr таски  с указанием пути до нужного jar\n",
    "hadoop jar /opt/hadoop/share/hadoop/tools/lib/hadoop-streaming-3.3.6.jar \\\n",
    "    -D mapreduce.job.name=\"logs_task_1\" \\\n",
    "    -files ./mapper_logs_1.py,./reducer_logs_1.py \\\n",
    "    -mapper \"python3 mapper_logs_1.py\" \\\n",
    "    -reducer \"python3 reducer_logs_1.py\" \\\n",
    "    -input /input/logs.csv \\\n",
    "    -output /logs_task_1\n",
    "    \n",
    "# запус 2 mr таски с указанием пути до нужного jar\n",
    "hadoop jar /opt/hadoop/share/hadoop/tools/lib/hadoop-streaming-3.3.6.jar \\\n",
    "    -D mapreduce.job.name=\"logs_task_2\" \\\n",
    "    -files ./mapper_logs_2.py,./reducer_logs_2.py \\\n",
    "    -mapper \"python3 mapper_logs_2.py\" \\\n",
    "    -reducer \"python3 reducer_logs_2.py\" \\\n",
    "    -input /logs_task_1 \\\n",
    "    -output /logs_task_2"
   ]
  },
  {
   "cell_type": "code",
   "execution_count": 31,
   "id": "22e4b6c7",
   "metadata": {},
   "outputs": [
    {
     "name": "stdout",
     "output_type": "stream",
     "text": [
      "2024-05-28  https://gonzales-bautista.com/  368\t\n",
      "2024-05-28  https://smith.com/              256\t\n",
      "2024-05-28  https://www.smith.com/          251\t\n",
      "2024-05-28  http://smith.com/               224\t\n",
      "2024-05-28  http://www.smith.com/           204\t\n",
      "2024-05-30  https://gonzales-bautista.com/  353\t\n",
      "2024-05-30  https://smith.com/              246\t\n",
      "2024-05-30  https://www.smith.com/          239\t\n",
      "2024-05-30  http://smith.com/               229\t\n",
      "2024-05-30  http://www.smith.com/           225\t\n",
      "2024-06-02  http://smith.com/               7\t\n",
      "2024-06-02  https://gonzales-bautista.com/  7\t\n",
      "2024-06-02  https://www.williams.com/       6\t\n",
      "2024-06-02  http://lee.com/                 5\t\n",
      "2024-06-02  http://miller.com/              5\t\n"
     ]
    }
   ],
   "source": [
    "%%bash\n",
    "## запустите эту команду, чтобы вывести результат работы по определенным компаниям, которые мы указали на grep\n",
    "## Это нам будет необходимо для визуального анализа результата работы вашего скрипта\n",
    "## в sort можете указать тот разделитель колонок, с которым у вас результат выплевывает редьюсер\n",
    "## укажите путь до той директории на hdfs, куда вы складывали результат\n",
    "\n",
    "hdfs dfs -cat /logs_task_2/* | grep -E '2024-05-28|2024-06-02|2024-05-30' | column -t -s$'+|='"
   ]
  },
  {
   "attachments": {
    "image.png": {
     "image/png": "[encoded data removed]"
    }
   },
   "cell_type": "markdown",
   "id": "7061c056",
   "metadata": {},
   "source": [
    "![image.png](attachment:image.png)"
   ]
  }
 ],
 "metadata": {
  "kernelspec": {
   "display_name": "Python 3",
   "language": "python",
   "name": "python3"
  },
  "language_info": {
   "codemirror_mode": {
    "name": "ipython",
    "version": 3
   },
   "file_extension": ".py",
   "mimetype": "text/x-python",
   "name": "python",
   "nbconvert_exporter": "python",
   "pygments_lexer": "ipython3",
   "version": "3.6.8"
  }
 },
 "nbformat": 4,
 "nbformat_minor": 5
}
